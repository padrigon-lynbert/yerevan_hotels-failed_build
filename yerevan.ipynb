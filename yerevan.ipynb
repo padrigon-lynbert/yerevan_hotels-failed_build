{
 "cells": [
  {
   "cell_type": "code",
   "execution_count": 99,
   "metadata": {},
   "outputs": [],
   "source": [
    "import os\n",
    "import pandas as pd\n",
    "\n",
    "dataset_file = 'D:\\manualCDmanagement\\codes\\Projects\\VMs\\skl algorithms\\\\00_datasets\\yerevan_hotels'\n",
    "file_name = 'yerevan_hotels.csv'\n",
    "df =pd.DataFrame(pd.read_csv(os.path.join(dataset_file, file_name)))\n",
    "\n",
    "separate = ['Star Rating', 'Rating', 'Staff', 'Facilities', 'Location', 'Comfort', 'Cleanliness']\n",
    "\n",
    "for column in df.columns:\n",
    "    if column in separate:\n",
    "        df[column] = df[column].fillna(df[column].mean())\n",
    "\n",
    "# for column in df.columns:\n",
    "#     if column not in separate and column != 'Price Per Day ($)':\n",
    "#             df[column], _ = df[column].factorize()\n",
    "\n",
    "for column in df.columns:\n",
    "    if column not in separate and column not in {'Price Per Day ($)', 'Hotel Names'}:\n",
    "            df[column] = df[column].map({'Yes':1, 'No':0})"
   ]
  },
  {
   "cell_type": "code",
   "execution_count": 100,
   "metadata": {},
   "outputs": [
    {
     "data": {
      "text/html": [
       "<div>\n",
       "<style scoped>\n",
       "    .dataframe tbody tr th:only-of-type {\n",
       "        vertical-align: middle;\n",
       "    }\n",
       "\n",
       "    .dataframe tbody tr th {\n",
       "        vertical-align: top;\n",
       "    }\n",
       "\n",
       "    .dataframe thead th {\n",
       "        text-align: right;\n",
       "    }\n",
       "</style>\n",
       "<table border=\"1\" class=\"dataframe\">\n",
       "  <thead>\n",
       "    <tr style=\"text-align: right;\">\n",
       "      <th></th>\n",
       "      <th>Hotel Names</th>\n",
       "      <th>Star Rating</th>\n",
       "      <th>Rating</th>\n",
       "      <th>Free Parking</th>\n",
       "      <th>Fitness Centre</th>\n",
       "      <th>Spa and Wellness Centre</th>\n",
       "      <th>Airport Shuttle</th>\n",
       "      <th>Staff</th>\n",
       "      <th>Facilities</th>\n",
       "      <th>Location</th>\n",
       "      <th>Comfort</th>\n",
       "      <th>Cleanliness</th>\n",
       "      <th>Price Per Day ($)</th>\n",
       "    </tr>\n",
       "  </thead>\n",
       "  <tbody>\n",
       "    <tr>\n",
       "      <th>0</th>\n",
       "      <td>Hayasa Hotel Yerevan</td>\n",
       "      <td>4.000000</td>\n",
       "      <td>9.0</td>\n",
       "      <td>0</td>\n",
       "      <td>1</td>\n",
       "      <td>0</td>\n",
       "      <td>1</td>\n",
       "      <td>9.2</td>\n",
       "      <td>9.0</td>\n",
       "      <td>9.1</td>\n",
       "      <td>9.5</td>\n",
       "      <td>9.4</td>\n",
       "      <td>88</td>\n",
       "    </tr>\n",
       "    <tr>\n",
       "      <th>1</th>\n",
       "      <td>Latar Hotel Yerevan</td>\n",
       "      <td>5.000000</td>\n",
       "      <td>8.1</td>\n",
       "      <td>0</td>\n",
       "      <td>1</td>\n",
       "      <td>1</td>\n",
       "      <td>1</td>\n",
       "      <td>8.4</td>\n",
       "      <td>8.3</td>\n",
       "      <td>7.4</td>\n",
       "      <td>8.7</td>\n",
       "      <td>8.5</td>\n",
       "      <td>87</td>\n",
       "    </tr>\n",
       "    <tr>\n",
       "      <th>2</th>\n",
       "      <td>Alex Hotel</td>\n",
       "      <td>4.000000</td>\n",
       "      <td>8.5</td>\n",
       "      <td>1</td>\n",
       "      <td>0</td>\n",
       "      <td>0</td>\n",
       "      <td>1</td>\n",
       "      <td>8.9</td>\n",
       "      <td>8.4</td>\n",
       "      <td>8.1</td>\n",
       "      <td>8.7</td>\n",
       "      <td>8.8</td>\n",
       "      <td>56</td>\n",
       "    </tr>\n",
       "    <tr>\n",
       "      <th>3</th>\n",
       "      <td>ENIGMA HOSTEL</td>\n",
       "      <td>3.891892</td>\n",
       "      <td>8.8</td>\n",
       "      <td>0</td>\n",
       "      <td>0</td>\n",
       "      <td>0</td>\n",
       "      <td>1</td>\n",
       "      <td>9.6</td>\n",
       "      <td>8.7</td>\n",
       "      <td>9.7</td>\n",
       "      <td>8.7</td>\n",
       "      <td>9.1</td>\n",
       "      <td>20</td>\n",
       "    </tr>\n",
       "    <tr>\n",
       "      <th>4</th>\n",
       "      <td>Ani Grand Hotel Yerevan</td>\n",
       "      <td>4.000000</td>\n",
       "      <td>8.8</td>\n",
       "      <td>0</td>\n",
       "      <td>1</td>\n",
       "      <td>0</td>\n",
       "      <td>0</td>\n",
       "      <td>8.9</td>\n",
       "      <td>8.7</td>\n",
       "      <td>9.4</td>\n",
       "      <td>9.1</td>\n",
       "      <td>9.0</td>\n",
       "      <td>130</td>\n",
       "    </tr>\n",
       "  </tbody>\n",
       "</table>\n",
       "</div>"
      ],
      "text/plain": [
       "               Hotel Names  Star Rating  Rating  Free Parking  Fitness Centre  \\\n",
       "0     Hayasa Hotel Yerevan     4.000000     9.0             0               1   \n",
       "1      Latar Hotel Yerevan     5.000000     8.1             0               1   \n",
       "2               Alex Hotel     4.000000     8.5             1               0   \n",
       "3            ENIGMA HOSTEL     3.891892     8.8             0               0   \n",
       "4  Ani Grand Hotel Yerevan     4.000000     8.8             0               1   \n",
       "\n",
       "   Spa and Wellness Centre  Airport Shuttle  Staff  Facilities  Location  \\\n",
       "0                        0                1    9.2         9.0       9.1   \n",
       "1                        1                1    8.4         8.3       7.4   \n",
       "2                        0                1    8.9         8.4       8.1   \n",
       "3                        0                1    9.6         8.7       9.7   \n",
       "4                        0                0    8.9         8.7       9.4   \n",
       "\n",
       "   Comfort  Cleanliness  Price Per Day ($)  \n",
       "0      9.5          9.4                 88  \n",
       "1      8.7          8.5                 87  \n",
       "2      8.7          8.8                 56  \n",
       "3      8.7          9.1                 20  \n",
       "4      9.1          9.0                130  "
      ]
     },
     "execution_count": 100,
     "metadata": {},
     "output_type": "execute_result"
    }
   ],
   "source": [
    "df.head()"
   ]
  },
  {
   "cell_type": "code",
   "execution_count": 101,
   "metadata": {},
   "outputs": [
    {
     "data": {
      "text/plain": [
       "Hotel Names                0\n",
       "Star Rating                0\n",
       "Rating                     0\n",
       "Free Parking               0\n",
       "Fitness Centre             0\n",
       "Spa and Wellness Centre    0\n",
       "Airport Shuttle            0\n",
       "Staff                      0\n",
       "Facilities                 0\n",
       "Location                   0\n",
       "Comfort                    0\n",
       "Cleanliness                0\n",
       "Price Per Day ($)          0\n",
       "dtype: int64"
      ]
     },
     "execution_count": 101,
     "metadata": {},
     "output_type": "execute_result"
    }
   ],
   "source": [
    "df.isnull().sum()"
   ]
  },
  {
   "cell_type": "code",
   "execution_count": 102,
   "metadata": {},
   "outputs": [],
   "source": [
    "from sklearn.model_selection import train_test_split\n",
    "X = df.drop(['Hotel Names', 'Price Per Day ($)'], axis=1)\n",
    "y = df['Price Per Day ($)']\n",
    "\n",
    "X_train, X_test, y_train, y_test = train_test_split(X, y, test_size=0.2, random_state=42)"
   ]
  },
  {
   "cell_type": "code",
   "execution_count": 103,
   "metadata": {},
   "outputs": [],
   "source": [
    "# scaling\n",
    "from sklearn.preprocessing import StandardScaler\n",
    "scaler = StandardScaler()\n",
    "\n",
    "X_train_scaled = scaler.fit_transform(X_train)\n",
    "X_test_scaled = scaler.transform(X_test)"
   ]
  },
  {
   "cell_type": "code",
   "execution_count": 157,
   "metadata": {},
   "outputs": [
    {
     "name": "stdout",
     "output_type": "stream",
     "text": [
      "620.6701396982317 24.91325229066313 -0.45008022254273916\n"
     ]
    }
   ],
   "source": [
    "\n",
    "from sklearn.linear_model import LinearRegression\n",
    "import pandas as pd\n",
    "from sklearn.metrics import mean_squared_error, r2_score\n",
    "import numpy as np\n",
    "import matplotlib.pyplot as plt\n",
    "\n",
    "model = LinearRegression()\n",
    "model.fit(X_train_scaled, y_train)\n",
    "\n",
    "y_pred = model.predict(X_test_scaled)\n",
    "\n",
    "mse = mean_squared_error(y_test, y_pred)\n",
    "r2 = r2_score(y_test, y_pred)\n",
    "rmse = np.sqrt(mse)\n",
    "\n",
    "print(mse, rmse, r2)\n",
    "\n",
    "coefficients = model.coef_\n",
    "features = X.columns\n",
    "\n",
    "coef_df = pd.DataFrame({'Feature': features, 'Coefficient': coefficients})\n",
    "coef_df['Abs_Coefficient'] = coef_df['Coefficient'].abs()\n",
    "coef_df_sorted = coef_df.sort_values(by='Abs_Coefficient', ascending=True)\n",
    "\n",
    "# plt.figure(figsize=(10, 6))\n",
    "# plt.barh(coef_df_sorted['Feature'], coef_df_sorted['Coefficient'])\n",
    "# plt.xlabel('Coefficient Value')\n",
    "# plt.ylabel('Feature Name')\n",
    "# plt.title('Linear Regression Coefficients')\n",
    "# plt.grid(True)"
   ]
  },
  {
   "cell_type": "code",
   "execution_count": 143,
   "metadata": {},
   "outputs": [
    {
     "name": "stdout",
     "output_type": "stream",
     "text": [
      "524.0398185941044 24.91325229066313 -0.22432146830465705\n"
     ]
    }
   ],
   "source": [
    "from sklearn.ensemble import RandomForestRegressor\n",
    "from sklearn.metrics import mean_squared_error, r2_score\n",
    "import numpy as np\n",
    "model_rf = RandomForestRegressor(n_estimators=35, random_state=42)\n",
    "\n",
    "model_rf.fit(X_train_scaled, y_train)\n",
    "y_pred_rf = model_rf.predict(X_test_scaled)\n",
    "\n",
    "mse_rf = mean_squared_error(y_test, y_pred_rf)\n",
    "r2_rf = r2_score(y_test, y_pred_rf)\n",
    "rmse_rf = np.sqrt(mse)\n",
    "\n",
    "print(mse_rf, rmse_rf, r2_rf)"
   ]
  },
  {
   "cell_type": "code",
   "execution_count": 160,
   "metadata": {},
   "outputs": [
    {
     "name": "stdout",
     "output_type": "stream",
     "text": [
      "Cross-Validation MSE: 815.3489 ± 449.8001\n",
      "Cross-Validation R²: -0.1372 ± 0.6212\n",
      "Test MSE: 524.0398\n",
      "Test RMSE: 22.8919\n",
      "Test R²: -0.2243\n"
     ]
    }
   ],
   "source": [
    "from sklearn.ensemble import RandomForestRegressor\n",
    "from sklearn.metrics import mean_squared_error, r2_score\n",
    "from sklearn.model_selection import KFold, cross_val_score\n",
    "import numpy as np\n",
    "model_rf = RandomForestRegressor(n_estimators=35, random_state=42)\n",
    "\n",
    "model_rf.fit(X_train_scaled, y_train)\n",
    "y_pred_rf = model_rf.predict(X_test_scaled)\n",
    "\n",
    "mse_rf = mean_squared_error(y_test, y_pred_rf)\n",
    "r2_rf = r2_score(y_test, y_pred_rf)\n",
    "rmse_rf = np.sqrt(mse)\n",
    "\n",
    "\n",
    "# cross-validation\n",
    "kf = KFold(n_splits=5, shuffle=True, random_state=42)\n",
    "cross_val_mse = cross_val_score(model_rf, X_train_scaled, y_train, cv=kf, scoring='neg_mean_squared_error')\n",
    "cross_val_r2 = cross_val_score(model_rf, X_train_scaled, y_train, cv=kf, scoring='r2')\n",
    "\n",
    "mean_cross_val_mse = -cross_val_mse.mean()\n",
    "std_cross_val_mse = cross_val_mse.std()\n",
    "mean_cross_val_r2 = cross_val_r2.mean()\n",
    "std_cross_val_r2 = cross_val_r2.std()\n",
    "\n",
    "model_rf.fit(X_train_scaled, y_train)\n",
    "y_pred_rf = model_rf.predict(X_test_scaled)\n",
    "\n",
    "mse_rf = mean_squared_error(y_test, y_pred_rf)\n",
    "rmse_rf = np.sqrt(mse_rf)\n",
    "r2_rf = r2_score(y_test, y_pred_rf)\n",
    "\n",
    "print(f'Cross-Validation MSE: {mean_cross_val_mse:.4f} ± {std_cross_val_mse:.4f}')\n",
    "print(f'Cross-Validation R²: {mean_cross_val_r2:.4f} ± {std_cross_val_r2:.4f}')\n",
    "print(f'Test MSE: {mse_rf:.4f}')\n",
    "print(f'Test RMSE: {rmse_rf:.4f}')\n",
    "print(f'Test R²: {r2_rf:.4f}')"
   ]
  },
  {
   "cell_type": "code",
   "execution_count": 161,
   "metadata": {},
   "outputs": [],
   "source": [
    "import matplotlib.pyplot as plt\n",
    "\n",
    "importances = model_rf.feature_importances_\n",
    "features = X.columns\n",
    "\n",
    "indices = np.argsort(importances)[::-1]\n",
    "\n",
    "# plt.figure(figsize=(10, 6))\n",
    "# plt.title(\"RF Feature Importances\")\n",
    "# plt.barh(range(X.shape[1]), importances[indices], align=\"center\")\n",
    "# plt.yticks(range(X.shape[1]), features[indices], rotation=0)\n",
    "# plt.ylim([-1, X.shape[1]])\n",
    "# plt.tight_layout()"
   ]
  },
  {
   "cell_type": "code",
   "execution_count": 154,
   "metadata": {},
   "outputs": [],
   "source": [
    "import matplotlib.pyplot as plt\n",
    "\n",
    "# plt.scatter(y_test, y_pred_rf, color='green', alpha=0.7)\n",
    "# plt.plot([min(y_test), max(y_test)], [min(y_test), max(y_test)], linestyle='--', color='k')\n",
    "# plt.title('cant fit regression with only 47 dataset entry')"
   ]
  },
  {
   "cell_type": "code",
   "execution_count": 114,
   "metadata": {},
   "outputs": [
    {
     "data": {
      "text/plain": [
       "'Star Rating'"
      ]
     },
     "execution_count": 114,
     "metadata": {},
     "output_type": "execute_result"
    }
   ],
   "source": [
    "X.columns[0]"
   ]
  }
 ],
 "metadata": {
  "kernelspec": {
   "display_name": "base",
   "language": "python",
   "name": "python3"
  },
  "language_info": {
   "codemirror_mode": {
    "name": "ipython",
    "version": 3
   },
   "file_extension": ".py",
   "mimetype": "text/x-python",
   "name": "python",
   "nbconvert_exporter": "python",
   "pygments_lexer": "ipython3",
   "version": "3.11.5"
  }
 },
 "nbformat": 4,
 "nbformat_minor": 2
}
